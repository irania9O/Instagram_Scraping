{
 "cells": [
  {
   "cell_type": "code",
   "execution_count": null,
   "id": "f7c5d8e5-27ed-43e7-8a2e-766ea3d6920d",
   "metadata": {},
   "outputs": [],
   "source": [
    "#imports\n",
    "from selenium import webdriver\n",
    "from selenium.webdriver.common.keys import Keys\n",
    "from selenium.webdriver.common.by import By\n",
    "from selenium.webdriver.support.ui import WebDriverWait\n",
    "from selenium.webdriver.support import expected_conditions as EC\n",
    "import time"
   ]
  },
  {
   "cell_type": "code",
   "execution_count": null,
   "id": "41963618-e0a4-46ac-b4f5-5cbcc7eb6577",
   "metadata": {},
   "outputs": [],
   "source": [
    "driver = webdriver.Chrome() #initial chrome driver"
   ]
  },
  {
   "cell_type": "code",
   "execution_count": null,
   "id": "29fc779c-b7f2-4122-a788-5593f89bed8c",
   "metadata": {},
   "outputs": [],
   "source": [
    "def login():\n",
    "    \"\"\" login to instagram main page by username and password\"\"\"\n",
    "    try:\n",
    "        driver.get(\"https://www.instagram.com/?hl=en\")\n",
    "        \n",
    "        input_username_Element = driver.find_element(by=By.NAME, value='username') #find username input\n",
    "        input_username_Element.send_keys('') #type username\n",
    "\n",
    "        input_password_Element = driver.find_element(by=By.NAME, value='password') #find username password\n",
    "        input_password_Element.send_keys('') #type password\n",
    "\n",
    "        driver.find_element(by=By.CSS_SELECTOR, value='.sqdOP > .qF0y9').click()   \n",
    "        return True\n",
    "    except:\n",
    "        return False\n",
    "login()"
   ]
  },
  {
   "cell_type": "code",
   "execution_count": null,
   "id": "484765e6-69da-4ad9-85cc-3b0fd4207452",
   "metadata": {},
   "outputs": [],
   "source": [
    "def Not_now_button():\n",
    "    try:\n",
    "        WebDriverWait(driver, 10).until(EC.visibility_of_element_located((By.XPATH, \"/html/body/div[1]/section/main/div/div/div/div/button\"))).click() #click on Not now button on Save Your Login Info\n",
    "    except Exception as e: \n",
    "        pass\n",
    "Not_now_button() "
   ]
  },
  {
   "cell_type": "code",
   "execution_count": null,
   "id": "886fb8d2-52c9-436d-a2c4-fdf2dc6d0344",
   "metadata": {},
   "outputs": [],
   "source": [
    "def Not_now_button():\n",
    "    try:\n",
    "        WebDriverWait(driver, 10).until(EC.visibility_of_element_located((By.XPATH, \"/html/body/div[1]/section/main/div/div/div/div/button\"))).click() #click on Not now button on Save Your Login Info\n",
    "    except Exception as e: \n",
    "        pass\n",
    "Not_now_button() "
   ]
  },
  {
   "cell_type": "code",
   "execution_count": null,
   "id": "8246610d-4709-4f36-8884-069a7675ced6",
   "metadata": {},
   "outputs": [],
   "source": [
    "def get_info(id_):\n",
    "    try:\n",
    "        driver.get(f\"https://www.instagram.com/{id_}\")\n",
    "   \n",
    "        return   {\n",
    "        'post_count': driver.find_element(By.XPATH, \"/html/body/div[1]/div/div[1]/div/div[1]/div/div/div[1]/div[1]/section/main/div/header/section/ul/li[1]/div\").text,\n",
    "        'followers_count': driver.find_element(By.XPATH, \"/html/body/div[1]/div/div[1]/div/div[1]/div/div/div[2]/div[1]/section/main/div/header/section/ul/li[2]/a/div\").text, \n",
    "        'following_count': driver.find_element(By.XPATH, \"/html/body/div[1]/div/div[1]/div/div[1]/div/div/div[1]/div[0]/section/main/div/header/section/ul/li[3]/a/div\").text,\n",
    "        'profile_photo': driver.find_element(By.XPATH,\"/html/body/div[1]/div/div[1]/div/div[1]/div/div/div[1]/div[1]/section/main/div/header/div/div/div/button/img\").get_attribute(\"src\"),   \n",
    "        'id': id_,\n",
    "        }\n",
    "    except:\n",
    "        return False\n",
    "    \n",
    "get_info(id_)"
   ]
  },
  {
   "cell_type": "code",
   "execution_count": null,
   "id": "67351a86-df0b-45cf-8f0d-8afecbc3276e",
   "metadata": {},
   "outputs": [],
   "source": [
    "def send_direct(id_contanct ,msg):\n",
    "    driver.get(f\"https://www.instagram.com/{id_contanct}/\")\n",
    "   \n",
    "    WebDriverWait(driver, 10).until(EC.visibility_of_element_located((By.XPATH, \"/html/body/div[1]/div/div[1]/div/div[1]/div/div/div[1]/div[1]/section/main/div/header/section/div[1]/div[1]/div/div[1]/button/div\"))).click()\n",
    "    try:\n",
    "        input_message_Element = WebDriverWait(driver, 10).until(EC.visibility_of_element_located((By.XPATH, \"/html/body/div[1]/div/div[1]/div/div[1]/div/div/div[1]/div[1]/div/section/div/div[2]/div/div/div[2]/div[2]/div/div[2]/div/div/div[1]/textarea\")))\n",
    "        input_message_Element.click()\n",
    "        input_message_Element.send_keys(msg)\n",
    "        input_message_Element.send_keys(Keys.ENTER)\n",
    "        return True\n",
    "    except Exception as e: \n",
    "        return False\n",
    "    "
   ]
  },
  {
   "cell_type": "code",
   "execution_count": null,
   "id": "68515a0f-6c37-42b5-a678-c0ffd6c80373",
   "metadata": {},
   "outputs": [],
   "source": [
    "def get_scr():\n",
    "    try:\n",
    "        return {\"type\":\"video\",\"url\":driver.find_element(By.XPATH, \"/html/body/div[1]/div/div[1]/div/div[1]/div/div/div[1]/div[1]/section/div[1]/div/div[5]/section/div/div[2]/div/div/video\").find_element(By.XPATH,'//source').get_attribute(\"src\")}\n",
    "    except:\n",
    "        return {\"type\":\"img\",\"url\":driver.find_element(By.XPATH, \"/html/body/div[1]/div/div[1]/div/div[1]/div/div/div[1]/div[1]/section/div[1]/div/div[6]/div/div/img\").get_attribute(\"src\")}\n"
   ]
  },
  {
   "cell_type": "code",
   "execution_count": null,
   "id": "8963a300-4c49-4bca-ab73-7ef54be171df",
   "metadata": {},
   "outputs": [],
   "source": [
    "def get_stories():\n",
    "    list_data = []\n",
    "\n",
    "    driver.get(\"https://www.instagram.com/\")\n",
    "\n",
    "\n",
    "    WebDriverWait(driver, 10).until(EC.visibility_of_element_located((By.XPATH,\"/html/body/div[1]/div/div[1]/div/div[1]/div/div/div[1]/div[1]/section/main/section/div/div[2]/div/div/div/div/ul/li[3]/div/button/div[1]/span/img\"))).click()\n",
    "    time.sleep(5)\n",
    "\n",
    "    while driver.current_url != 'https://www.instagram.com/':\n",
    "        try:\n",
    "            list_data.append(get_scr())\n",
    "            driver.find_elements(By.CSS_SELECTOR, \".coreSpriteRightChevron\")[0].click()\n",
    "        except:\n",
    "            pass\n",
    "\n",
    "    return list_data\n"
   ]
  },
  {
   "cell_type": "code",
   "execution_count": null,
   "id": "ee5a0538-ff8e-461c-9354-7b76a5c5dec5",
   "metadata": {},
   "outputs": [],
   "source": []
  }
 ],
 "metadata": {
  "kernelspec": {
   "display_name": "Python 3 (ipykernel)",
   "language": "python",
   "name": "python3"
  },
  "language_info": {
   "codemirror_mode": {
    "name": "ipython",
    "version": 3
   },
   "file_extension": ".py",
   "mimetype": "text/x-python",
   "name": "python",
   "nbconvert_exporter": "python",
   "pygments_lexer": "ipython3",
   "version": "3.9.7"
  }
 },
 "nbformat": 4,
 "nbformat_minor": 5
}
